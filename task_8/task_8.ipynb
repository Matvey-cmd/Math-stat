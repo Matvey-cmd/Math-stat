{
 "cells": [
  {
   "cell_type": "code",
   "metadata": {
    "ExecuteTime": {
     "end_time": "2025-03-30T21:18:08.031404Z",
     "start_time": "2025-03-30T21:18:08.025537Z"
    }
   },
   "source": [
    "import numpy as np \n",
    "import pandas as pd\n",
    "import math\n",
    "import matplotlib.pyplot as plt \n",
    "import scipy.optimize\n",
    "from scipy.stats import poisson, chi2\n",
    "from scipy.stats import moment\n",
    "\n",
    "import matplotlib.pyplot as plt\n",
    "\n",
    "plt.rcParams['figure.figsize'] = (10.0, 8.0) # set default size of plots\n",
    "plt.rcParams['image.interpolation'] = 'nearest'\n",
    "plt.rcParams['image.cmap'] = 'gray'"
   ],
   "outputs": [],
   "execution_count": 14
  },
  {
   "cell_type": "code",
   "metadata": {
    "ExecuteTime": {
     "end_time": "2025-03-30T21:18:08.055336Z",
     "start_time": "2025-03-30T21:18:08.043873Z"
    }
   },
   "source": [
    "n = 200\n",
    "index = [\"Партия 1\", \"Партия 2\"] # Bi\n",
    "columns = [\"Заниженный размер\", \"Точный размер\", \"Завышенный размер\"] # Ai\n",
    "data_df = pd.DataFrame(columns=columns, index = pd.Index(index))\n",
    "data_df.loc[\"Партия 1\", :] = np.array([25, 50, 25])\n",
    "data_df.loc[\"Партия 2\", :] = np.array([52, 41, 7])\n",
    "data_df"
   ],
   "outputs": [
    {
     "data": {
      "text/plain": [
       "         Заниженный размер Точный размер Завышенный размер\n",
       "Партия 1                25            50                25\n",
       "Партия 2                52            41                 7"
      ],
      "text/html": [
       "<div>\n",
       "<style scoped>\n",
       "    .dataframe tbody tr th:only-of-type {\n",
       "        vertical-align: middle;\n",
       "    }\n",
       "\n",
       "    .dataframe tbody tr th {\n",
       "        vertical-align: top;\n",
       "    }\n",
       "\n",
       "    .dataframe thead th {\n",
       "        text-align: right;\n",
       "    }\n",
       "</style>\n",
       "<table border=\"1\" class=\"dataframe\">\n",
       "  <thead>\n",
       "    <tr style=\"text-align: right;\">\n",
       "      <th></th>\n",
       "      <th>Заниженный размер</th>\n",
       "      <th>Точный размер</th>\n",
       "      <th>Завышенный размер</th>\n",
       "    </tr>\n",
       "  </thead>\n",
       "  <tbody>\n",
       "    <tr>\n",
       "      <th>Партия 1</th>\n",
       "      <td>25</td>\n",
       "      <td>50</td>\n",
       "      <td>25</td>\n",
       "    </tr>\n",
       "    <tr>\n",
       "      <th>Партия 2</th>\n",
       "      <td>52</td>\n",
       "      <td>41</td>\n",
       "      <td>7</td>\n",
       "    </tr>\n",
       "  </tbody>\n",
       "</table>\n",
       "</div>"
      ]
     },
     "execution_count": 15,
     "metadata": {},
     "output_type": "execute_result"
    }
   ],
   "execution_count": 15
  },
  {
   "cell_type": "code",
   "metadata": {
    "ExecuteTime": {
     "end_time": "2025-03-30T21:18:08.111775Z",
     "start_time": "2025-03-30T21:18:08.100649Z"
    }
   },
   "source": [
    "# ищем p_i и q_j для\n",
    "p_df = pd.DataFrame(columns=[1, 2], index=pd.Index([\"p_i\"]))\n",
    "p_df.loc[\"p_i\", :] = np.array([np.sum(data_df.loc[data_df.index[i], :])/n for i in (0, 1)])\n",
    "q_df = pd.DataFrame(columns=[1, 2, 3], index=pd.Index([\"q_j\"]))\n",
    "q_df.loc[\"q_j\", :] = np.array([np.sum(data_df.loc[pd.Index(index), columns[i]])/n for i in (0, 1, 2)])\n",
    "# Функция для красивого вывода\n",
    "def pretty_print(df, title=\"\"):\n",
    "    style = df.style \\\n",
    "        .set_properties(**{\n",
    "            'text-align': 'center',\n",
    "            'border': '1px solid black',\n",
    "            'padding': '5px'\n",
    "        }) \\\n",
    "        .set_table_styles([{\n",
    "            'selector': 'th',\n",
    "            'props': [('background-color', '#f7f7f7'),\n",
    "                     ('font-weight', 'bold')]\n",
    "        }]) \\\n",
    "        .format(\"{:.4f}\")  # Формат чисел\n",
    "\n",
    "    if title:\n",
    "        display(style.set_caption(title))\n",
    "    else:\n",
    "        display(style)\n",
    "\n",
    "# Выводим оба DataFrame\n",
    "print(\"Вероятности p_i:\")\n",
    "pretty_print(p_df, \"p_i\")\n",
    "\n",
    "print(\"\\nВероятности q_j:\")\n",
    "pretty_print(q_df, \"q_j\")\n",
    "# print(p_df)\n",
    "# q_df"
   ],
   "outputs": [
    {
     "name": "stdout",
     "output_type": "stream",
     "text": [
      "Вероятности p_i:\n"
     ]
    },
    {
     "data": {
      "text/plain": [
       "<pandas.io.formats.style.Styler at 0x11e8dfdc0>"
      ],
      "text/html": [
       "<style type=\"text/css\">\n",
       "#T_ff102 th {\n",
       "  background-color: #f7f7f7;\n",
       "  font-weight: bold;\n",
       "}\n",
       "#T_ff102_row0_col0, #T_ff102_row0_col1 {\n",
       "  text-align: center;\n",
       "  border: 1px solid black;\n",
       "  padding: 5px;\n",
       "}\n",
       "</style>\n",
       "<table id=\"T_ff102\">\n",
       "  <caption>p_i</caption>\n",
       "  <thead>\n",
       "    <tr>\n",
       "      <th class=\"blank level0\" >&nbsp;</th>\n",
       "      <th id=\"T_ff102_level0_col0\" class=\"col_heading level0 col0\" >1</th>\n",
       "      <th id=\"T_ff102_level0_col1\" class=\"col_heading level0 col1\" >2</th>\n",
       "    </tr>\n",
       "  </thead>\n",
       "  <tbody>\n",
       "    <tr>\n",
       "      <th id=\"T_ff102_level0_row0\" class=\"row_heading level0 row0\" >p_i</th>\n",
       "      <td id=\"T_ff102_row0_col0\" class=\"data row0 col0\" >0.5000</td>\n",
       "      <td id=\"T_ff102_row0_col1\" class=\"data row0 col1\" >0.5000</td>\n",
       "    </tr>\n",
       "  </tbody>\n",
       "</table>\n"
      ]
     },
     "metadata": {},
     "output_type": "display_data"
    },
    {
     "name": "stdout",
     "output_type": "stream",
     "text": [
      "\n",
      "Вероятности q_j:\n"
     ]
    },
    {
     "data": {
      "text/plain": [
       "<pandas.io.formats.style.Styler at 0x11e8dfdc0>"
      ],
      "text/html": [
       "<style type=\"text/css\">\n",
       "#T_c1755 th {\n",
       "  background-color: #f7f7f7;\n",
       "  font-weight: bold;\n",
       "}\n",
       "#T_c1755_row0_col0, #T_c1755_row0_col1, #T_c1755_row0_col2 {\n",
       "  text-align: center;\n",
       "  border: 1px solid black;\n",
       "  padding: 5px;\n",
       "}\n",
       "</style>\n",
       "<table id=\"T_c1755\">\n",
       "  <caption>q_j</caption>\n",
       "  <thead>\n",
       "    <tr>\n",
       "      <th class=\"blank level0\" >&nbsp;</th>\n",
       "      <th id=\"T_c1755_level0_col0\" class=\"col_heading level0 col0\" >1</th>\n",
       "      <th id=\"T_c1755_level0_col1\" class=\"col_heading level0 col1\" >2</th>\n",
       "      <th id=\"T_c1755_level0_col2\" class=\"col_heading level0 col2\" >3</th>\n",
       "    </tr>\n",
       "  </thead>\n",
       "  <tbody>\n",
       "    <tr>\n",
       "      <th id=\"T_c1755_level0_row0\" class=\"row_heading level0 row0\" >q_j</th>\n",
       "      <td id=\"T_c1755_row0_col0\" class=\"data row0 col0\" >0.3850</td>\n",
       "      <td id=\"T_c1755_row0_col1\" class=\"data row0 col1\" >0.4550</td>\n",
       "      <td id=\"T_c1755_row0_col2\" class=\"data row0 col2\" >0.1600</td>\n",
       "    </tr>\n",
       "  </tbody>\n",
       "</table>\n"
      ]
     },
     "metadata": {},
     "output_type": "display_data"
    }
   ],
   "execution_count": 16
  },
  {
   "cell_type": "code",
   "metadata": {
    "ExecuteTime": {
     "end_time": "2025-03-30T21:18:08.243557Z",
     "start_time": "2025-03-30T21:18:08.240258Z"
    }
   },
   "source": [
    "# находим дельту\n",
    "delta = 0\n",
    "for i in (1, 2):\n",
    "    for j in (1, 2, 3):\n",
    "        delta += (data_df.loc[index[i-1], columns[j-1]])/(n*p_df.loc[\"p_i\", i]*q_df.loc[\"q_j\", j])\n",
    "delta"
   ],
   "outputs": [
    {
     "data": {
      "text/plain": [
       "6.0"
      ]
     },
     "execution_count": 17,
     "metadata": {},
     "output_type": "execute_result"
    }
   ],
   "execution_count": 17
  },
  {
   "cell_type": "code",
   "metadata": {
    "ExecuteTime": {
     "end_time": "2025-03-30T21:18:08.333201Z",
     "start_time": "2025-03-30T21:18:08.329219Z"
    }
   },
   "source": [
    "# подставляем в данную функцию найденную дельту и параметр хи^2, на выходе получаем p-value\n",
    "sf = chi2.sf(delta, (2-1)*(3-1))\n",
    "print(sf)"
   ],
   "outputs": [
    {
     "name": "stdout",
     "output_type": "stream",
     "text": [
      "0.04978706836786395\n"
     ]
    }
   ],
   "execution_count": 18
  },
  {
   "metadata": {},
   "cell_type": "markdown",
   "source": "p-value < 0.05 => Отвергаем H0 (результаты значимы)"
  }
 ],
 "metadata": {
  "kernelspec": {
   "display_name": "Python 3",
   "language": "python",
   "name": "python3"
  },
  "language_info": {
   "codemirror_mode": {
    "name": "ipython",
    "version": 3
   },
   "file_extension": ".py",
   "mimetype": "text/x-python",
   "name": "python",
   "nbconvert_exporter": "python",
   "pygments_lexer": "ipython3",
   "version": "3.11.8"
  }
 },
 "nbformat": 4,
 "nbformat_minor": 2
}

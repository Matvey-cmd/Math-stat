{
 "cells": [
  {
   "cell_type": "code",
   "metadata": {
    "ExecuteTime": {
     "end_time": "2025-03-28T18:28:49.030849Z",
     "start_time": "2025-03-28T18:28:49.025673Z"
    }
   },
   "source": [
    "import numpy as np \n",
    "import pandas as pd\n",
    "import math\n",
    "import matplotlib.pyplot as plt \n",
    "import scipy.optimize\n",
    "from scipy.stats import poisson, chi2\n",
    "from scipy.stats import moment\n",
    "\n",
    "import matplotlib.pyplot as plt\n",
    "\n",
    "plt.rcParams['figure.figsize'] = (10.0, 8.0) # set default size of plots\n",
    "plt.rcParams['image.interpolation'] = 'nearest'\n",
    "plt.rcParams['image.cmap'] = 'gray'"
   ],
   "outputs": [],
   "execution_count": 11
  },
  {
   "cell_type": "code",
   "metadata": {
    "ExecuteTime": {
     "end_time": "2025-03-28T18:28:49.051098Z",
     "start_time": "2025-03-28T18:28:49.041964Z"
    }
   },
   "source": [
    "n = 200\n",
    "index = [\"Партия 1\", \"Партия 2\"]\n",
    "columns = [\"Заниженный размер\", \"Точный размер\", \"Завышенный размер\"]\n",
    "data_df = pd.DataFrame(columns=columns, index = pd.Index(index))\n",
    "data_df.loc[\"Партия 1\", :] = np.array([25, 50, 25])\n",
    "data_df.loc[\"Партия 2\", :] = np.array([52, 41, 7])\n",
    "data_df"
   ],
   "outputs": [
    {
     "data": {
      "text/plain": [
       "         Заниженный размер Точный размер Завышенный размер\n",
       "Партия 1                25            50                25\n",
       "Партия 2                52            41                 7"
      ],
      "text/html": [
       "<div>\n",
       "<style scoped>\n",
       "    .dataframe tbody tr th:only-of-type {\n",
       "        vertical-align: middle;\n",
       "    }\n",
       "\n",
       "    .dataframe tbody tr th {\n",
       "        vertical-align: top;\n",
       "    }\n",
       "\n",
       "    .dataframe thead th {\n",
       "        text-align: right;\n",
       "    }\n",
       "</style>\n",
       "<table border=\"1\" class=\"dataframe\">\n",
       "  <thead>\n",
       "    <tr style=\"text-align: right;\">\n",
       "      <th></th>\n",
       "      <th>Заниженный размер</th>\n",
       "      <th>Точный размер</th>\n",
       "      <th>Завышенный размер</th>\n",
       "    </tr>\n",
       "  </thead>\n",
       "  <tbody>\n",
       "    <tr>\n",
       "      <th>Партия 1</th>\n",
       "      <td>25</td>\n",
       "      <td>50</td>\n",
       "      <td>25</td>\n",
       "    </tr>\n",
       "    <tr>\n",
       "      <th>Партия 2</th>\n",
       "      <td>52</td>\n",
       "      <td>41</td>\n",
       "      <td>7</td>\n",
       "    </tr>\n",
       "  </tbody>\n",
       "</table>\n",
       "</div>"
      ]
     },
     "execution_count": 12,
     "metadata": {},
     "output_type": "execute_result"
    }
   ],
   "execution_count": 12
  },
  {
   "cell_type": "code",
   "metadata": {
    "ExecuteTime": {
     "end_time": "2025-03-28T18:28:49.091350Z",
     "start_time": "2025-03-28T18:28:49.084010Z"
    }
   },
   "source": [
    "p_df = pd.DataFrame(columns=[1, 2], index=pd.Index([\"p_i\"]))\n",
    "p_df.loc[\"p_i\", :] = np.array([np.sum(data_df.loc[data_df.index[i], :])/n for i in (0, 1)])\n",
    "q_df = pd.DataFrame(columns=[1, 2, 3], index=pd.Index([\"q_j\"]))\n",
    "q_df.loc[\"q_j\", :] = np.array([np.sum(data_df.loc[pd.Index(index), columns[i]])/n for i in (0, 1, 2)])\n",
    "print(p_df)\n",
    "q_df"
   ],
   "outputs": [
    {
     "name": "stdout",
     "output_type": "stream",
     "text": [
      "       1    2\n",
      "p_i  0.5  0.5\n"
     ]
    },
    {
     "data": {
      "text/plain": [
       "         1      2     3\n",
       "q_j  0.385  0.455  0.16"
      ],
      "text/html": [
       "<div>\n",
       "<style scoped>\n",
       "    .dataframe tbody tr th:only-of-type {\n",
       "        vertical-align: middle;\n",
       "    }\n",
       "\n",
       "    .dataframe tbody tr th {\n",
       "        vertical-align: top;\n",
       "    }\n",
       "\n",
       "    .dataframe thead th {\n",
       "        text-align: right;\n",
       "    }\n",
       "</style>\n",
       "<table border=\"1\" class=\"dataframe\">\n",
       "  <thead>\n",
       "    <tr style=\"text-align: right;\">\n",
       "      <th></th>\n",
       "      <th>1</th>\n",
       "      <th>2</th>\n",
       "      <th>3</th>\n",
       "    </tr>\n",
       "  </thead>\n",
       "  <tbody>\n",
       "    <tr>\n",
       "      <th>q_j</th>\n",
       "      <td>0.385</td>\n",
       "      <td>0.455</td>\n",
       "      <td>0.16</td>\n",
       "    </tr>\n",
       "  </tbody>\n",
       "</table>\n",
       "</div>"
      ]
     },
     "execution_count": 13,
     "metadata": {},
     "output_type": "execute_result"
    }
   ],
   "execution_count": 13
  },
  {
   "cell_type": "code",
   "metadata": {
    "ExecuteTime": {
     "end_time": "2025-03-28T18:28:49.222431Z",
     "start_time": "2025-03-28T18:28:49.218988Z"
    }
   },
   "source": [
    "delta = 0\n",
    "for i in (1, 2):\n",
    "    for j in (1, 2, 3):\n",
    "        delta += (data_df.loc[index[i-1], columns[j-1]])/(n*p_df.loc[\"p_i\", i]*q_df.loc[\"q_j\", j])\n",
    "delta"
   ],
   "outputs": [
    {
     "data": {
      "text/plain": [
       "6.0"
      ]
     },
     "execution_count": 14,
     "metadata": {},
     "output_type": "execute_result"
    }
   ],
   "execution_count": 14
  },
  {
   "cell_type": "code",
   "metadata": {
    "ExecuteTime": {
     "end_time": "2025-03-28T18:28:49.263413Z",
     "start_time": "2025-03-28T18:28:49.260790Z"
    }
   },
   "source": [
    "sf = chi2.sf(delta, (2-1)*(3-1))\n",
    "print(sf)"
   ],
   "outputs": [
    {
     "name": "stdout",
     "output_type": "stream",
     "text": [
      "0.04978706836786395\n"
     ]
    }
   ],
   "execution_count": 15
  },
  {
   "metadata": {},
   "cell_type": "markdown",
   "source": "p-value < 0.05 => Отвергаем H0 (результаты значимы)"
  }
 ],
 "metadata": {
  "kernelspec": {
   "display_name": "Python 3",
   "language": "python",
   "name": "python3"
  },
  "language_info": {
   "codemirror_mode": {
    "name": "ipython",
    "version": 3
   },
   "file_extension": ".py",
   "mimetype": "text/x-python",
   "name": "python",
   "nbconvert_exporter": "python",
   "pygments_lexer": "ipython3",
   "version": "3.11.8"
  }
 },
 "nbformat": 4,
 "nbformat_minor": 2
}

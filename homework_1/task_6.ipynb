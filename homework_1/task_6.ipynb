{
 "cells": [
  {
   "metadata": {},
   "cell_type": "markdown",
   "source": "***Задание 6***",
   "id": "dd8e454df95181d1"
  },
  {
   "metadata": {},
   "cell_type": "markdown",
   "source": "d) Сгенерируйте выборку объема n = 100 для некоторого значения параметра $\\theta$. Вычислите указанные выше доверительные интервалы для доверительной вероятности 0.95",
   "id": "ec2d7e3e0f0e6e20"
  },
  {
   "metadata": {
    "ExecuteTime": {
     "end_time": "2025-03-23T22:31:08.068249Z",
     "start_time": "2025-03-23T22:31:08.063611Z"
    }
   },
   "cell_type": "code",
   "source": [
    "import numpy as np\n",
    "import random as rd"
   ],
   "id": "c98f587da7e53128",
   "outputs": [],
   "execution_count": 54
  },
  {
   "metadata": {
    "ExecuteTime": {
     "end_time": "2025-03-23T22:31:08.079678Z",
     "start_time": "2025-03-23T22:31:08.074665Z"
    }
   },
   "cell_type": "code",
   "source": [
    "theta = 2\n",
    "\n",
    "def p(x: float, thet: float) -> float:\n",
    "    if x >= 1:\n",
    "        return (thet - 1) / (x ** thet)\n",
    "    return 0\n",
    "\n",
    "def F(x: float, thet: float) -> float:\n",
    "    if x >= 1:\n",
    "        return 1 - x ** (1 - thet)\n",
    "    return 0\n",
    "\n",
    "def F_inv(y: float, thet: float) -> float:\n",
    "    return (1 - y) ** (1 / (1 - thet))\n",
    "\n",
    "N = 100\n",
    "selection = []\n",
    "\n",
    "for _ in range(N):\n",
    "    y = rd.random()\n",
    "    selection.append(F_inv(y, theta))"
   ],
   "id": "fdb89cee2957ba9a",
   "outputs": [],
   "execution_count": 55
  },
  {
   "metadata": {
    "ExecuteTime": {
     "end_time": "2025-03-23T22:31:08.094533Z",
     "start_time": "2025-03-23T22:31:08.090324Z"
    }
   },
   "cell_type": "code",
   "source": [
    "beta = 0.95\n",
    "\n",
    "mean_ln = np.mean([np.log(x) for x in selection])\n",
    "g_theta = 2 ** (mean_ln)\n",
    "\n",
    "promezh_znach = 1.96 * g_theta * np.log(2) * mean_ln / np.sqrt(N)\n",
    "\n",
    "lower_bound = g_theta - promezh_znach\n",
    "upper_bound = g_theta + promezh_znach\n",
    "\n",
    "# сравним с реальной медианой\n",
    "variation_row = sorted(selection)\n",
    "\n",
    "print(f\"Доверительный интервал: ({lower_bound}, {upper_bound}), длина: {upper_bound - lower_bound}\")\n",
    "print(\"Медиана: \", (variation_row[49] + variation_row[50])/2)"
   ],
   "id": "f5e3a7e02b0dc90b",
   "outputs": [
    {
     "name": "stdout",
     "output_type": "stream",
     "text": [
      "Доверительный интервал: (1.6415432064878117, 2.1012815168000434), длина: 0.45973831031223167\n",
      "Медиана:  1.997478633388425\n"
     ]
    }
   ],
   "execution_count": 56
  },
  {
   "metadata": {
    "ExecuteTime": {
     "end_time": "2025-03-23T22:31:08.105458Z",
     "start_time": "2025-03-23T22:31:08.102510Z"
    }
   },
   "cell_type": "code",
   "source": [
    "# Асимптотический доверительный интервал\n",
    "\n",
    "lower_bound = 1 - (1.96 - np.sqrt(N)) / (mean_ln * np.sqrt(N))\n",
    "upper_bound = 1 + (1.96 + np.sqrt(N)) / (mean_ln * np.sqrt(N))\n",
    "\n",
    "print(f\"Доверительный интервал: ({lower_bound}, {upper_bound}), длина: {upper_bound - lower_bound}\")"
   ],
   "id": "4f5e88dbe258e34b",
   "outputs": [
    {
     "name": "stdout",
     "output_type": "stream",
     "text": [
      "Доверительный интервал: (1.8892551220757272, 2.322822296023097), длина: 0.4335671739473699\n"
     ]
    }
   ],
   "execution_count": 57
  },
  {
   "metadata": {},
   "cell_type": "markdown",
   "source": "e) Численно постройте бутстраповский доверительный интервал двумя способами, используя параметрический бутстрап и непараметрический бустстрап.",
   "id": "a59608bb6a2cc723"
  },
  {
   "metadata": {
    "ExecuteTime": {
     "end_time": "2025-03-23T22:31:08.181711Z",
     "start_time": "2025-03-23T22:31:08.118220Z"
    }
   },
   "cell_type": "code",
   "source": [
    "# Непараметрический бутстрап\n",
    "h_wave = 1 + 1 / mean_ln\n",
    "\n",
    "bootstrap_delta = []\n",
    "for _ in range(1000):\n",
    "    sample = np.random.choice(selection, size=N)\n",
    "    bootstrap_delta.append(1 + 1 / (np.mean([np.log(x) for x in sample])) - h_wave)\n",
    "\n",
    "sorted_bootstrap_delta = np.sort(bootstrap_delta)\n",
    "t1 = sorted_bootstrap_delta[int(((1 - beta) * 1000) / 2)]\n",
    "t2 = sorted_bootstrap_delta[int(((1 + beta) * 1000) / 2)]\n",
    "\n",
    "lower_bound = h_wave - t2\n",
    "upper_bound = h_wave - t1\n",
    "\n",
    "print(f\"Доверительный интервал: ({lower_bound}, {upper_bound}), длина: {upper_bound - lower_bound}\")"
   ],
   "id": "45da60ad39ba034b",
   "outputs": [
    {
     "name": "stdout",
     "output_type": "stream",
     "text": [
      "Доверительный интервал: (1.874487696895982, 2.280382579073448), длина: 0.40589488217746617\n"
     ]
    }
   ],
   "execution_count": 58
  },
  {
   "metadata": {
    "ExecuteTime": {
     "end_time": "2025-03-23T22:31:11.651264Z",
     "start_time": "2025-03-23T22:31:08.244737Z"
    }
   },
   "cell_type": "code",
   "source": [
    "# Параметрический бутстрап\n",
    "iter = 50000\n",
    "\n",
    "h_wave = 1 + 1 / mean_ln\n",
    "bootstrap_delta = []\n",
    "\n",
    "for _ in range(iter):\n",
    "    sample = []\n",
    "    for _ in range(100):\n",
    "        y = rd.random()\n",
    "        sample.append(F_inv(y, h_wave))\n",
    "    bootstrap_delta.append(1 + 1 / (np.mean([np.log(x) for x in sample])) - h_wave)\n",
    "\n",
    "sorted_bootstrap_delta = np.sort(bootstrap_delta)\n",
    "t1 = sorted_bootstrap_delta[int(((1 - beta) * iter) / 2)]\n",
    "t2 = sorted_bootstrap_delta[int(((1 + beta) * iter) / 2)]\n",
    "\n",
    "lower_bound = h_wave - t2\n",
    "upper_bound = h_wave - t1\n",
    "\n",
    "print(f\"Доверительный интервал: ({lower_bound}, {upper_bound}), длина: {upper_bound - lower_bound}\")"
   ],
   "id": "17ff866f4afcd76c",
   "outputs": [
    {
     "name": "stdout",
     "output_type": "stream",
     "text": [
      "Доверительный интервал: (1.8514195104923905, 2.295802671192036), длина: 0.44438316069964534\n"
     ]
    }
   ],
   "execution_count": 59
  },
  {
   "metadata": {},
   "cell_type": "markdown",
   "source": "f) Сравнить все интервалы",
   "id": "a2a1c8b28cbf63eb"
  },
  {
   "metadata": {},
   "cell_type": "markdown",
   "source": [
    "Сортировка по длине интервала (сначала самые короткие)\n",
    "1) Непараметрический бутстрап.\n",
    "2) Асимптотический доверительный интервал.\n",
    "3) Параметрический бутстрап."
   ],
   "id": "403ef78ee2709d20"
  }
 ],
 "metadata": {
  "kernelspec": {
   "display_name": "Python 3",
   "language": "python",
   "name": "python3"
  },
  "language_info": {
   "codemirror_mode": {
    "name": "ipython",
    "version": 2
   },
   "file_extension": ".py",
   "mimetype": "text/x-python",
   "name": "python",
   "nbconvert_exporter": "python",
   "pygments_lexer": "ipython2",
   "version": "2.7.6"
  }
 },
 "nbformat": 4,
 "nbformat_minor": 5
}

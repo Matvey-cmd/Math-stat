{
 "cells": [
  {
   "metadata": {},
   "cell_type": "markdown",
   "source": "***Задание 5***\n",
   "id": "cee9e1d4edca84b6"
  },
  {
   "metadata": {},
   "cell_type": "markdown",
   "source": "f) Сгенерируйте выборку объема n = 100 для некоторого параметра $\\theta$. Вычислите указанные выше доверительные интервалы для доверительной вероятности 0.95.",
   "id": "12c989a97686fa4"
  },
  {
   "metadata": {
    "ExecuteTime": {
     "end_time": "2025-03-23T19:35:47.769049Z",
     "start_time": "2025-03-23T19:35:47.764819Z"
    }
   },
   "cell_type": "code",
   "source": [
    "import numpy as np\n",
    "import random as rd"
   ],
   "id": "763e714b278e8916",
   "outputs": [],
   "execution_count": 128
  },
  {
   "metadata": {
    "ExecuteTime": {
     "end_time": "2025-03-23T19:35:47.780711Z",
     "start_time": "2025-03-23T19:35:47.776253Z"
    }
   },
   "cell_type": "code",
   "source": [
    "theta = 1\n",
    "\n",
    "def p(x: float) -> float:\n",
    "    if 2 * theta >= x >= theta:\n",
    "        return 1 / theta\n",
    "    return 0\n",
    "\n",
    "def F(x: float) -> float:\n",
    "    if 2 * theta >= x >= theta:\n",
    "        return x/theta - 1\n",
    "    elif x >= 2 * theta:\n",
    "        return 1\n",
    "    return 0\n",
    "\n",
    "def F_inv(y: float) -> float:\n",
    "    return theta * (y + 1)\n",
    "\n",
    "N = 100\n",
    "selection = []\n",
    "\n",
    "for _ in range(N):\n",
    "    y = rd.random()\n",
    "    selection.append(F_inv(y))"
   ],
   "id": "f5901462641d0ed9",
   "outputs": [],
   "execution_count": 129
  },
  {
   "metadata": {
    "ExecuteTime": {
     "end_time": "2025-03-23T19:35:47.794636Z",
     "start_time": "2025-03-23T19:35:47.791241Z"
    }
   },
   "cell_type": "code",
   "source": [
    "beta = 0.95\n",
    "x_max = np.max(selection)\n",
    "\n",
    "lower_bound = x_max/(1 + ((1 + beta) / 2) ** (1 / N))\n",
    "upper_bound = x_max/(1 + ((1 - beta) / 2) ** (1 / N))\n",
    "\n",
    "print(f\"Доверительный интервал: ({lower_bound}, {upper_bound}), длина: {upper_bound - lower_bound}\")"
   ],
   "id": "2431b4affbe9b116",
   "outputs": [
    {
     "name": "stdout",
     "output_type": "stream",
     "text": [
      "Доверительный интервал: (0.9946396182130498, 1.0128548500759416), длина: 0.018215231862891756\n"
     ]
    }
   ],
   "execution_count": 130
  },
  {
   "metadata": {
    "ExecuteTime": {
     "end_time": "2025-03-23T19:35:47.809152Z",
     "start_time": "2025-03-23T19:35:47.804272Z"
    }
   },
   "cell_type": "code",
   "source": [
    "beta = 0.95\n",
    "theta_1 = 2 * np.mean(selection) / 3\n",
    "\n",
    "s = np.sqrt((np.sum([(x - np.mean(selection)) ** 2 for x in selection]))/(N-1))\n",
    "\n",
    "lower_bound = theta_1 - 2 * s * 1.96 * np.sqrt(N - 1)/(3 * N)\n",
    "upper_bound = theta_1 + 2 * s * 1.96 * np.sqrt(N - 1)/(3 * N)\n",
    "\n",
    "print(f\"Доверительный интервал: ({lower_bound}, {upper_bound}), длина: {upper_bound - lower_bound}\")"
   ],
   "id": "a73a641cfb5393bb",
   "outputs": [
    {
     "name": "stdout",
     "output_type": "stream",
     "text": [
      "Доверительный интервал: (0.9746454651378341, 1.0532127769153565), длина: 0.07856731177752241\n"
     ]
    }
   ],
   "execution_count": 131
  },
  {
   "metadata": {},
   "cell_type": "markdown",
   "source": "g) Численно постройте бутстраповский доверительный интервал.",
   "id": "9797372c83c4134c"
  },
  {
   "metadata": {
    "ExecuteTime": {
     "end_time": "2025-03-23T19:35:47.904540Z",
     "start_time": "2025-03-23T19:35:47.886595Z"
    }
   },
   "cell_type": "code",
   "source": [
    "beta = 0.95\n",
    "\n",
    "h_wave = (N + 1) * x_max / (2 * N + 1)\n",
    "\n",
    "bootstrap_delta = []\n",
    "for _ in range(1000):\n",
    "    sample = np.random.choice(selection, size=N)\n",
    "    bootstrap_delta.append((N + 1) * np.max(sample) / (2 * N + 1) - h_wave)\n",
    "\n",
    "sorted_bootstrap_delta = np.sort(bootstrap_delta)\n",
    "t1 = sorted_bootstrap_delta[int(((1 - beta) * 1000) / 2)]\n",
    "t2 = sorted_bootstrap_delta[int(((1 + beta) * 1000) / 2)]\n",
    "\n",
    "lower_bound = h_wave - t2\n",
    "upper_bound = h_wave - t1\n",
    "\n",
    "print(f\"Доверительный интервал: ({lower_bound}, {upper_bound}), длина: {upper_bound - lower_bound}\")"
   ],
   "id": "636c40a8ad2b72b1",
   "outputs": [
    {
     "name": "stdout",
     "output_type": "stream",
     "text": [
      "Доверительный интервал: (0.9994615531472795, 1.008872970755324), длина: 0.009411417608044426\n"
     ]
    }
   ],
   "execution_count": 132
  },
  {
   "metadata": {},
   "cell_type": "markdown",
   "source": "h) Сравнить все интервалы.",
   "id": "5f4dd2f8d6dd0af4"
  },
  {
   "metadata": {},
   "cell_type": "markdown",
   "source": [
    "Длина непараметрического бутстраповского доверительного интервала самая маленькая.\n",
    "Длина асимптотический доверительного интервала самая большая.\n",
    "\n",
    "Это все по той причине, что метод бутстрапа занижает длину доверительного интервала, а точный метод даёт лучшую оценку, чем асимптотический подход, поэтому у бутстрапа самая маленькая длина доверительного интервала, а у асимптотического - самая большая."
   ],
   "id": "4091c0fc3a047bcd"
  }
 ],
 "metadata": {
  "kernelspec": {
   "display_name": "Python 3",
   "language": "python",
   "name": "python3"
  },
  "language_info": {
   "codemirror_mode": {
    "name": "ipython",
    "version": 2
   },
   "file_extension": ".py",
   "mimetype": "text/x-python",
   "name": "python",
   "nbconvert_exporter": "python",
   "pygments_lexer": "ipython2",
   "version": "2.7.6"
  }
 },
 "nbformat": 4,
 "nbformat_minor": 5
}

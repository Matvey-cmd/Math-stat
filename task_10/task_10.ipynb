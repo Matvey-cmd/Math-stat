{
 "cells": [
  {
   "cell_type": "code",
   "metadata": {
    "ExecuteTime": {
     "end_time": "2025-03-31T16:48:57.426551Z",
     "start_time": "2025-03-31T16:48:57.419934Z"
    }
   },
   "source": [
    "import numpy as np \n",
    "import pandas as pd\n",
    "import math\n",
    "import matplotlib.pyplot as plt \n",
    "import scipy.optimize\n",
    "from scipy.stats import poisson, chi2, kstwobign\n",
    "from scipy.stats import moment\n",
    "\n",
    "import matplotlib.pyplot as plt\n",
    "\n",
    "plt.rcParams['figure.figsize'] = (10.0, 8.0) # set default size of plots\n",
    "plt.rcParams['image.interpolation'] = 'nearest'\n",
    "plt.rcParams['image.cmap'] = 'gray'"
   ],
   "outputs": [],
   "execution_count": 175
  },
  {
   "cell_type": "code",
   "metadata": {
    "ExecuteTime": {
     "end_time": "2025-03-31T16:48:57.442936Z",
     "start_time": "2025-03-31T16:48:57.432294Z"
    }
   },
   "source": [
    "n = 100\n",
    "columns = [i for i in range(0, 10)]\n",
    "index = [\"Погрешность\"]\n",
    "data_df = pd.DataFrame(columns=columns, index = pd.Index(index))\n",
    "data_df.loc[\"Погрешность\"] = np.array([5, 8, 6, 12, 14, 18, 11, 6, 13, 7])\n",
    "data_df"
   ],
   "outputs": [
    {
     "data": {
      "text/plain": [
       "             0  1  2   3   4   5   6  7   8  9\n",
       "Погрешность  5  8  6  12  14  18  11  6  13  7"
      ],
      "text/html": [
       "<div>\n",
       "<style scoped>\n",
       "    .dataframe tbody tr th:only-of-type {\n",
       "        vertical-align: middle;\n",
       "    }\n",
       "\n",
       "    .dataframe tbody tr th {\n",
       "        vertical-align: top;\n",
       "    }\n",
       "\n",
       "    .dataframe thead th {\n",
       "        text-align: right;\n",
       "    }\n",
       "</style>\n",
       "<table border=\"1\" class=\"dataframe\">\n",
       "  <thead>\n",
       "    <tr style=\"text-align: right;\">\n",
       "      <th></th>\n",
       "      <th>0</th>\n",
       "      <th>1</th>\n",
       "      <th>2</th>\n",
       "      <th>3</th>\n",
       "      <th>4</th>\n",
       "      <th>5</th>\n",
       "      <th>6</th>\n",
       "      <th>7</th>\n",
       "      <th>8</th>\n",
       "      <th>9</th>\n",
       "    </tr>\n",
       "  </thead>\n",
       "  <tbody>\n",
       "    <tr>\n",
       "      <th>Погрешность</th>\n",
       "      <td>5</td>\n",
       "      <td>8</td>\n",
       "      <td>6</td>\n",
       "      <td>12</td>\n",
       "      <td>14</td>\n",
       "      <td>18</td>\n",
       "      <td>11</td>\n",
       "      <td>6</td>\n",
       "      <td>13</td>\n",
       "      <td>7</td>\n",
       "    </tr>\n",
       "  </tbody>\n",
       "</table>\n",
       "</div>"
      ]
     },
     "execution_count": 176,
     "metadata": {},
     "output_type": "execute_result"
    }
   ],
   "execution_count": 176
  },
  {
   "cell_type": "code",
   "metadata": {
    "ExecuteTime": {
     "end_time": "2025-03-31T16:48:57.479696Z",
     "start_time": "2025-03-31T16:48:57.476379Z"
    }
   },
   "source": [
    "p = 1/10 # Для равномерного распределения для дискретных значений\n",
    "delta = 0\n",
    "for i in range(0, 10): delta += (n*p - data_df.loc[\"Погрешность\", i])**2 / (n*p)\n",
    "delta"
   ],
   "outputs": [
    {
     "data": {
      "text/plain": [
       "16.4"
      ]
     },
     "execution_count": 177,
     "metadata": {},
     "output_type": "execute_result"
    }
   ],
   "execution_count": 177
  },
  {
   "cell_type": "code",
   "metadata": {
    "ExecuteTime": {
     "end_time": "2025-03-31T16:48:57.510861Z",
     "start_time": "2025-03-31T16:48:57.508468Z"
    }
   },
   "source": [
    "sf = chi2.sf(delta, 9)\n",
    "print(f\"p_value = {sf}\")"
   ],
   "outputs": [
    {
     "name": "stdout",
     "output_type": "stream",
     "text": [
      "p_value = 0.058984030544419586\n"
     ]
    }
   ],
   "execution_count": 178
  },
  {
   "metadata": {},
   "cell_type": "markdown",
   "source": "p-value > 0.05 => Нет оснований отвергнуть H0"
  },
  {
   "metadata": {},
   "cell_type": "markdown",
   "source": "***Колмогоров***"
  },
  {
   "cell_type": "code",
   "metadata": {
    "ExecuteTime": {
     "end_time": "2025-03-31T16:48:57.588091Z",
     "start_time": "2025-03-31T16:48:57.519778Z"
    }
   },
   "source": [
    "p_even = [i/10 for i in range(1, 11)]\n",
    "p_empirical = [data_df.loc[\"Погрешность\", 0]/n]\n",
    "for i in range(1, 10):\n",
    "    p_empirical.append(p_empirical[i-1] + data_df.loc[\"Погрешность\", i]/n)\n",
    "\n",
    "# Plotting\n",
    "plt.step(columns, p_empirical, where='post')\n",
    "plt.step(columns, p_even, where=\"post\")\n",
    "plt.title('Эмпирическая функция распределения(голубая) и функция распределения для равномерного распределния(оранжевая)')\n",
    "plt.xlabel('Value')\n",
    "plt.ylabel('Cumulative Probability')\n",
    "plt.grid(True)\n",
    "plt.show()"
   ],
   "outputs": [
    {
     "data": {
      "text/plain": [
       "<Figure size 1000x800 with 1 Axes>"
      ],
      "image/png": "[encoded data removed]"
     },
     "metadata": {},
     "output_type": "display_data"
    }
   ],
   "execution_count": 179
  },
  {
   "cell_type": "code",
   "metadata": {
    "ExecuteTime": {
     "end_time": "2025-03-31T16:48:57.599503Z",
     "start_time": "2025-03-31T16:48:57.597084Z"
    }
   },
   "source": [
    "print(f\"tp_even = \\t{p_even}\")\n",
    "print(f\"p_empirical = \\t{p_empirical}\")"
   ],
   "outputs": [
    {
     "name": "stdout",
     "output_type": "stream",
     "text": [
      "tp_even = \t[0.1, 0.2, 0.3, 0.4, 0.5, 0.6, 0.7, 0.8, 0.9, 1.0]\n",
      "p_empirical = \t[0.05, 0.13, 0.19, 0.31, 0.45, 0.63, 0.74, 0.8, 0.93, 1.0]\n"
     ]
    }
   ],
   "execution_count": 180
  },
  {
   "cell_type": "code",
   "metadata": {
    "ExecuteTime": {
     "end_time": "2025-03-31T16:48:57.611047Z",
     "start_time": "2025-03-31T16:48:57.608089Z"
    }
   },
   "source": [
    "delta = 0\n",
    "delta = max(abs(p_even[0] - 0), abs(p_even[0] - p_empirical[0]))\n",
    "for i in range(1, 10):\n",
    "    delta = max(delta, abs(p_even[i] - p_empirical[i-1]), abs(p_even[i] - p_empirical[i]))\n",
    "delta *= math.sqrt(n)\n",
    "delta"
   ],
   "outputs": [
    {
     "data": {
      "text/plain": [
       "2.1"
      ]
     },
     "execution_count": 181,
     "metadata": {},
     "output_type": "execute_result"
    }
   ],
   "execution_count": 181
  },
  {
   "cell_type": "code",
   "metadata": {
    "ExecuteTime": {
     "end_time": "2025-03-31T16:48:57.621446Z",
     "start_time": "2025-03-31T16:48:57.619044Z"
    }
   },
   "source": [
    "kolmogorov_dist = kstwobign\n",
    "sf_value = kolmogorov_dist.sf(delta)\n",
    "print(f\"P(delta >= {delta}) = {sf_value}\")"
   ],
   "outputs": [
    {
     "name": "stdout",
     "output_type": "stream",
     "text": [
      "P(delta >= 2.1) = 0.0002954967204631142\n"
     ]
    }
   ],
   "execution_count": 182
  },
  {
   "metadata": {},
   "cell_type": "markdown",
   "source": "p-value <= 0.05 => Отвергаем H0 (результаты значимы)"
  },
  {
   "metadata": {},
   "cell_type": "markdown",
   "source": "**Пункт б**"
  },
  {
   "metadata": {},
   "cell_type": "markdown",
   "source": [
    "$$ОМПГ$$\n",
    "\n",
    "**Гипотезы:**\n",
    "- $H_0 : \\xi \\sim N(\\theta_1, \\theta_2)$\n",
    "- $H_1 : H_0$\n",
    "\n",
    "**Про оценки:**\n",
    "*He смещенные, состоятельные для нормального распределения (на семинаре находили):*\n",
    "\n",
    "**Оценки параметров:**\n",
    "- $\\tilde{λ}_1 = \\overline{x}_n \\approx 4,77$\n",
    "- $\\tilde{\\mu}_2 = S^2 = \\frac{1}{n-1} \\cdot \\sum_{i=1}^n (x_i - \\overline{x}_n)^2 \\approx 6,39$"
   ]
  },
  {
   "metadata": {
    "ExecuteTime": {
     "end_time": "2025-03-31T16:48:57.632640Z",
     "start_time": "2025-03-31T16:48:57.629577Z"
    }
   },
   "cell_type": "code",
   "source": [
    "data = np.array([5, 8, 6, 12, 14, 18, 11, 6, 13, 7])\n",
    "segments = np.array([(-np.inf, 1)] + [(i, i + 1) for i in range(1, 9)] + [(9, np.inf)])\n",
    "sample = np.repeat(np.arange(len(data)), data)\n",
    "\n",
    "# Для удобства напишем функцию нормального распределения, мат ожидание и корня дисперсию\n",
    "def F_normal(x, mean, sigma):\n",
    "    return 0.5 * (1 + math.erf((x - mean)/(np.sqrt(2) * sigma)))\n",
    "\n",
    "def F_normal_wave(x): return F_normal(x, alpha, sigma)\n",
    "\n",
    "# Оценка мат ожидания\n",
    "alpha = np.mean(sample)\n",
    "# Оценка корня дисперсии (несмещенная)\n",
    "sigma = np.sqrt(np.var(sample) * n/(n-1))\n"
   ],
   "outputs": [],
   "execution_count": 183
  },
  {
   "metadata": {
    "ExecuteTime": {
     "end_time": "2025-03-31T16:48:57.644207Z",
     "start_time": "2025-03-31T16:48:57.640673Z"
    }
   },
   "cell_type": "code",
   "source": [
    "from tabulate import tabulate\n",
    "\n",
    "# Вероятность каждого события\n",
    "p = [F_normal_wave(i[1]) - F_normal_wave(i[0]) for i in segments]\n",
    "\n",
    "# Создаем таблицу\n",
    "table_data = []\n",
    "for i in range(len(p)):\n",
    "    table_data.append([f\"Сегмент {i+1}\", segments[i][0], segments[i][1], f\"{p[i] * n:.2f}\"])\n",
    "\n",
    "# Выводим таблицу\n",
    "headers = [\"Интервал\", \"Нижняя граница интервала\", \"Верхняя граница\", \"Вероятность p_i\"]\n",
    "print(tabulate(table_data, headers=headers, tablefmt=\"grid\", floatfmt=\".2f\"))\n",
    "\n",
    "delta = sum((n * p[i] - data[i]) ** 2 / (n * p[i]) for i in range(10))\n",
    "print(f\"\\ndelta = {delta}\")"
   ],
   "outputs": [
    {
     "name": "stdout",
     "output_type": "stream",
     "text": [
      "+------------+----------------------------+-------------------+-------------------+\n",
      "| Интервал   |   Нижняя граница интервала |   Верхняя граница |   Вероятность p_i |\n",
      "+============+============================+===================+===================+\n",
      "| Сегмент 1  |                    -inf    |              1.00 |              6.72 |\n",
      "+------------+----------------------------+-------------------+-------------------+\n",
      "| Сегмент 2  |                       1.00 |              2.00 |              6.85 |\n",
      "+------------+----------------------------+-------------------+-------------------+\n",
      "| Сегмент 3  |                       2.00 |              3.00 |             10.54 |\n",
      "+------------+----------------------------+-------------------+-------------------+\n",
      "| Сегмент 4  |                       3.00 |              4.00 |             13.88 |\n",
      "+------------+----------------------------+-------------------+-------------------+\n",
      "| Сегмент 5  |                       4.00 |              5.00 |             15.65 |\n",
      "+------------+----------------------------+-------------------+-------------------+\n",
      "| Сегмент 6  |                       5.00 |              6.00 |             15.10 |\n",
      "+------------+----------------------------+-------------------+-------------------+\n",
      "| Сегмент 7  |                       6.00 |              7.00 |             12.47 |\n",
      "+------------+----------------------------+-------------------+-------------------+\n",
      "| Сегмент 8  |                       7.00 |              8.00 |              8.81 |\n",
      "+------------+----------------------------+-------------------+-------------------+\n",
      "| Сегмент 9  |                       8.00 |              9.00 |              5.33 |\n",
      "+------------+----------------------------+-------------------+-------------------+\n",
      "| Сегмент 10 |                       9.00 |            inf    |              4.65 |\n",
      "+------------+----------------------------+-------------------+-------------------+\n",
      "\n",
      "delta = 16.87106704806876\n"
     ]
    }
   ],
   "execution_count": 184
  },
  {
   "metadata": {
    "ExecuteTime": {
     "end_time": "2025-03-31T16:48:57.654066Z",
     "start_time": "2025-03-31T16:48:57.652049Z"
    }
   },
   "cell_type": "code",
   "source": [
    "# Подсчет p-value\n",
    "k = 10\n",
    "m = 2\n",
    "sf = chi2.sf(delta, k - 1 - m)\n",
    "print(f\"P(delta >= {delta}) = {sf} \")"
   ],
   "outputs": [
    {
     "name": "stdout",
     "output_type": "stream",
     "text": [
      "P(delta >= 16.87106704806876) = 0.018246753020384292 \n"
     ]
    }
   ],
   "execution_count": 185
  },
  {
   "metadata": {},
   "cell_type": "markdown",
   "source": "**p-value < 0.05 => H0 отвергается**"
  },
  {
   "metadata": {},
   "cell_type": "markdown",
   "source": "**По критерию Колмогорова, использую параметрический бутстрап**"
  },
  {
   "metadata": {
    "ExecuteTime": {
     "end_time": "2025-03-31T16:49:11.263478Z",
     "start_time": "2025-03-31T16:48:57.662356Z"
    }
   },
   "cell_type": "code",
   "source": [
    "F_emperical = np.array([sum(data[:i]) for i in range(len(data) + 1)]) / n\n",
    "repeat = 50000\n",
    "bootstrap_delta = []\n",
    "x = np.arange(10)\n",
    "delta_wave = np.sqrt(n) * np.max(\n",
    "    [max(np.abs(F_normal_wave(x[i]) - F_emperical[i]), np.abs(F_normal_wave(x[i]) - F_emperical[i + 1])) for i in\n",
    "     range(10)])\n",
    "\n",
    "\n",
    "# Функция нормального распределения по подвыборке\n",
    "def F_bootstrap_wave(j):\n",
    "    return F_normal(random_sample[j], alpha_bootstrap, sigma_bootstrap)\n",
    "\n",
    "\n",
    "for _ in range(repeat):\n",
    "    random_sample = np.array(sorted(np.random.normal(alpha, sigma, n)))\n",
    "\n",
    "    # считаем мат ожидание и корень из дисперсии по подвыборке\n",
    "    alpha_bootstrap = random_sample.mean()\n",
    "    sigma_bootstrap = np.sqrt(random_sample.var() * n / (n - 1))\n",
    "\n",
    "    F_bootstrap_emperical = [i / n for i in range(n + 1)]\n",
    "\n",
    "    sup = np.sqrt(n) * np.max(\n",
    "        [max(np.abs(F_bootstrap_wave(j) - F_bootstrap_emperical[j]),\n",
    "             np.abs(F_bootstrap_wave(j) - F_bootstrap_emperical[j + 1])) for\n",
    "         j in range(len(random_sample))])\n",
    "\n",
    "    bootstrap_delta.append(sup)\n",
    "\n",
    "bootstrap_delta = np.array(bootstrap_delta)\n",
    "\n",
    "p_value = len(bootstrap_delta[bootstrap_delta >= delta_wave]) / repeat\n",
    "\n",
    "print(f\"p-value = {p_value} \")"
   ],
   "outputs": [
    {
     "name": "stdout",
     "output_type": "stream",
     "text": [
      "p-value = 0.01434 \n"
     ]
    }
   ],
   "execution_count": 186
  },
  {
   "metadata": {},
   "cell_type": "markdown",
   "source": "**p-value < 0.05 => H0 отвергаем**"
  }
 ],
 "metadata": {
  "kernelspec": {
   "display_name": "Python 3",
   "language": "python",
   "name": "python3"
  },
  "language_info": {
   "codemirror_mode": {
    "name": "ipython",
    "version": 3
   },
   "file_extension": ".py",
   "mimetype": "text/x-python",
   "name": "python",
   "nbconvert_exporter": "python",
   "pygments_lexer": "ipython3",
   "version": "3.11.8"
  }
 },
 "nbformat": 4,
 "nbformat_minor": 2
}

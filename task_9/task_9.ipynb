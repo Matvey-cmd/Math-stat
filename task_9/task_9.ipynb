{
 "cells": [
  {
   "cell_type": "code",
   "metadata": {
    "ExecuteTime": {
     "end_time": "2025-03-28T18:49:36.046088Z",
     "start_time": "2025-03-28T18:49:36.040346Z"
    }
   },
   "source": [
    "import numpy as np \n",
    "import pandas as pd\n",
    "from scipy.stats import poisson, chi2\n",
    "\n",
    "import matplotlib.pyplot as plt\n",
    "\n",
    "plt.rcParams['figure.figsize'] = (10.0, 8.0) # set default size of plots\n",
    "plt.rcParams['image.interpolation'] = 'nearest'\n",
    "plt.rcParams['image.cmap'] = 'gray'"
   ],
   "outputs": [],
   "execution_count": 11
  },
  {
   "cell_type": "code",
   "metadata": {
    "ExecuteTime": {
     "end_time": "2025-03-28T18:49:36.064894Z",
     "start_time": "2025-03-28T18:49:36.054887Z"
    }
   },
   "source": [
    "n = 600\n",
    "index = [\"Поток 1\", \"Поток 2\"]\n",
    "columns = [2, 3, 4, 5]\n",
    "data_df = pd.DataFrame(columns=columns, index = pd.Index(index))\n",
    "data_df.loc[\"Поток 1\", :] = np.array([33, 43, 80, 144])\n",
    "data_df.loc[\"Поток 2\", :] = np.array([39, 35, 72, 154])\n",
    "data_df"
   ],
   "outputs": [
    {
     "data": {
      "text/plain": [
       "          2   3   4    5\n",
       "Поток 1  33  43  80  144\n",
       "Поток 2  39  35  72  154"
      ],
      "text/html": [
       "<div>\n",
       "<style scoped>\n",
       "    .dataframe tbody tr th:only-of-type {\n",
       "        vertical-align: middle;\n",
       "    }\n",
       "\n",
       "    .dataframe tbody tr th {\n",
       "        vertical-align: top;\n",
       "    }\n",
       "\n",
       "    .dataframe thead th {\n",
       "        text-align: right;\n",
       "    }\n",
       "</style>\n",
       "<table border=\"1\" class=\"dataframe\">\n",
       "  <thead>\n",
       "    <tr style=\"text-align: right;\">\n",
       "      <th></th>\n",
       "      <th>2</th>\n",
       "      <th>3</th>\n",
       "      <th>4</th>\n",
       "      <th>5</th>\n",
       "    </tr>\n",
       "  </thead>\n",
       "  <tbody>\n",
       "    <tr>\n",
       "      <th>Поток 1</th>\n",
       "      <td>33</td>\n",
       "      <td>43</td>\n",
       "      <td>80</td>\n",
       "      <td>144</td>\n",
       "    </tr>\n",
       "    <tr>\n",
       "      <th>Поток 2</th>\n",
       "      <td>39</td>\n",
       "      <td>35</td>\n",
       "      <td>72</td>\n",
       "      <td>154</td>\n",
       "    </tr>\n",
       "  </tbody>\n",
       "</table>\n",
       "</div>"
      ]
     },
     "execution_count": 12,
     "metadata": {},
     "output_type": "execute_result"
    }
   ],
   "execution_count": 12
  },
  {
   "cell_type": "code",
   "metadata": {
    "ExecuteTime": {
     "end_time": "2025-03-28T18:49:36.105919Z",
     "start_time": "2025-03-28T18:49:36.100167Z"
    }
   },
   "source": [
    "nu_df = pd.DataFrame(columns=[1, 2, 3, 4], index=pd.Index([\"nu_i\"]))\n",
    "nu_df.loc[\"nu_i\", :] = np.array([np.sum(data_df.loc[pd.Index(index), columns[i]])/n for i in range(0, 4)])\n",
    "nu_df"
   ],
   "outputs": [
    {
     "data": {
      "text/plain": [
       "         1     2         3         4\n",
       "nu_i  0.12  0.13  0.253333  0.496667"
      ],
      "text/html": [
       "<div>\n",
       "<style scoped>\n",
       "    .dataframe tbody tr th:only-of-type {\n",
       "        vertical-align: middle;\n",
       "    }\n",
       "\n",
       "    .dataframe tbody tr th {\n",
       "        vertical-align: top;\n",
       "    }\n",
       "\n",
       "    .dataframe thead th {\n",
       "        text-align: right;\n",
       "    }\n",
       "</style>\n",
       "<table border=\"1\" class=\"dataframe\">\n",
       "  <thead>\n",
       "    <tr style=\"text-align: right;\">\n",
       "      <th></th>\n",
       "      <th>1</th>\n",
       "      <th>2</th>\n",
       "      <th>3</th>\n",
       "      <th>4</th>\n",
       "    </tr>\n",
       "  </thead>\n",
       "  <tbody>\n",
       "    <tr>\n",
       "      <th>nu_i</th>\n",
       "      <td>0.12</td>\n",
       "      <td>0.13</td>\n",
       "      <td>0.253333</td>\n",
       "      <td>0.496667</td>\n",
       "    </tr>\n",
       "  </tbody>\n",
       "</table>\n",
       "</div>"
      ]
     },
     "execution_count": 13,
     "metadata": {},
     "output_type": "execute_result"
    }
   ],
   "execution_count": 13
  },
  {
   "cell_type": "code",
   "metadata": {
    "ExecuteTime": {
     "end_time": "2025-03-28T18:49:36.159602Z",
     "start_time": "2025-03-28T18:49:36.153703Z"
    }
   },
   "source": [
    "def delta_s(s: int, nu: pd.DataFrame, df: pd.DataFrame):\n",
    "    n_s = np.sum(df.loc[index[s-1], :])\n",
    "    _delta_s = 0\n",
    "    for j in (1, 2, 3, 4):\n",
    "        m_ij = df.loc[index[s-1], columns[j-1]]\n",
    "        nu_j = nu.loc[\"nu_i\", j]\n",
    "        _delta_s += (m_ij - n_s*nu_j)**2/(n_s*nu_j)\n",
    "    return _delta_s\n",
    "\n",
    "delta_df = pd.DataFrame(columns=[1, 2], index=pd.Index([\"delta_s\"]))\n",
    "delta_df.loc[\"delta_s\", :] = np.array([delta_s(s, nu_df, data_df) for s in (1, 2)])\n",
    "delta_df"
   ],
   "outputs": [
    {
     "data": {
      "text/plain": [
       "                1         2\n",
       "delta_s  1.038568  1.038568"
      ],
      "text/html": [
       "<div>\n",
       "<style scoped>\n",
       "    .dataframe tbody tr th:only-of-type {\n",
       "        vertical-align: middle;\n",
       "    }\n",
       "\n",
       "    .dataframe tbody tr th {\n",
       "        vertical-align: top;\n",
       "    }\n",
       "\n",
       "    .dataframe thead th {\n",
       "        text-align: right;\n",
       "    }\n",
       "</style>\n",
       "<table border=\"1\" class=\"dataframe\">\n",
       "  <thead>\n",
       "    <tr style=\"text-align: right;\">\n",
       "      <th></th>\n",
       "      <th>1</th>\n",
       "      <th>2</th>\n",
       "    </tr>\n",
       "  </thead>\n",
       "  <tbody>\n",
       "    <tr>\n",
       "      <th>delta_s</th>\n",
       "      <td>1.038568</td>\n",
       "      <td>1.038568</td>\n",
       "    </tr>\n",
       "  </tbody>\n",
       "</table>\n",
       "</div>"
      ]
     },
     "execution_count": 14,
     "metadata": {},
     "output_type": "execute_result"
    }
   ],
   "execution_count": 14
  },
  {
   "cell_type": "code",
   "metadata": {
    "ExecuteTime": {
     "end_time": "2025-03-28T18:49:36.216932Z",
     "start_time": "2025-03-28T18:49:36.213630Z"
    }
   },
   "source": [
    "delta = np.sum(delta_df.loc[\"delta_s\", :])\n",
    "delta"
   ],
   "outputs": [
    {
     "data": {
      "text/plain": [
       "2.0771359218904255"
      ]
     },
     "execution_count": 15,
     "metadata": {},
     "output_type": "execute_result"
    }
   ],
   "execution_count": 15
  },
  {
   "cell_type": "code",
   "metadata": {
    "ExecuteTime": {
     "end_time": "2025-03-28T18:49:36.286978Z",
     "start_time": "2025-03-28T18:49:36.284744Z"
    }
   },
   "source": [
    "k = 4\n",
    "l = 2\n",
    "sf = chi2.sf(delta, (k-1)*(l-1))\n",
    "print(sf)"
   ],
   "outputs": [
    {
     "name": "stdout",
     "output_type": "stream",
     "text": [
      "0.5565521530460769\n"
     ]
    }
   ],
   "execution_count": 16
  },
  {
   "metadata": {},
   "cell_type": "markdown",
   "source": "p-value > 0.05 => Нет оснований отвергнуть H0"
  }
 ],
 "metadata": {
  "kernelspec": {
   "display_name": "Python 3",
   "language": "python",
   "name": "python3"
  },
  "language_info": {
   "codemirror_mode": {
    "name": "ipython",
    "version": 3
   },
   "file_extension": ".py",
   "mimetype": "text/x-python",
   "name": "python",
   "nbconvert_exporter": "python",
   "pygments_lexer": "ipython3",
   "version": "3.11.8"
  }
 },
 "nbformat": 4,
 "nbformat_minor": 2
}
